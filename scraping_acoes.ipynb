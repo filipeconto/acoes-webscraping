{
 "cells": [
  {
   "cell_type": "code",
   "execution_count": 54,
   "id": "eadf9888-ed31-4692-99ed-152649e4920f",
   "metadata": {},
   "outputs": [],
   "source": [
    "import os\n",
    "import time\n",
    "import pandas as pd\n",
    "from selenium import webdriver\n",
    "from selenium.webdriver.chrome.service import Service \n",
    "from webdriver_manager.chrome import ChromeDriverManager\n",
    "from selenium.webdriver.common.by import By\n",
    "from selenium.webdriver.support.ui import WebDriverWait\n",
    "from selenium.webdriver.support import expected_conditions as EC"
   ]
  },
  {
   "cell_type": "code",
   "execution_count": 55,
   "id": "3e4e4a06-1d7e-49bd-bdae-6938909e74ae",
   "metadata": {},
   "outputs": [],
   "source": [
    "#Instalando o driver\n",
    "servico = Service(ChromeDriverManager().install())\n",
    "\n",
    "#Abrindo o navegador\n",
    "navegador = webdriver.Chrome(service=servico)"
   ]
  },
  {
   "cell_type": "code",
   "execution_count": 56,
   "id": "ab122400-716f-4a58-8055-55948edce6c7",
   "metadata": {},
   "outputs": [],
   "source": [
    "lista_acoes = [ \"sapr3\", \"taee3\" ]"
   ]
  },
  {
   "cell_type": "code",
   "execution_count": 57,
   "id": "e4007088-a647-4848-8962-b8bc7430be03",
   "metadata": {},
   "outputs": [],
   "source": [
    "lista_indicadores_acoes = []\n",
    "for acoes in lista_acoes:\n",
    "\n",
    "    #Criando url\n",
    "    url = f\"https://statusinvest.com.br/acoes/{acoes}\"\n",
    "\n",
    "    \n",
    "    try:\n",
    "        #Abrindo o navegador\n",
    "        navegador.get(url)\n",
    "\n",
    "        time.sleep(0.25)\n",
    "    \n",
    "        #Coletando infos\n",
    "        preco_lucro = navegador.find_element(By.XPATH, '//*[@id=\"indicators-section\"]/div[2]/div/div[1]/div/div[2]/div/div/strong').text\n",
    "    \n",
    "\n",
    "        #Criando dict\n",
    "        dicionario = {  \"acoes\": acoes, \n",
    "                      \"preco_lucro\": preco_lucro,\n",
    "                                            \n",
    "                        }\n",
    "\n",
    "        #Criando lista de dicts\n",
    "        lista_indicadores_acoes.append(dicionario)\n",
    "    except Exception as e:\n",
    "        print(e)\n",
    "\n",
    "#Fecha o navegador\n",
    "navegador.quit()\n",
    "\n"
   ]
  },
  {
   "cell_type": "code",
   "execution_count": 58,
   "id": "1abfb249-a435-46b8-bc04-afc910c84c26",
   "metadata": {},
   "outputs": [],
   "source": [
    "df = pd.DataFrame.from_dict(lista_indicadores_acoes)"
   ]
  },
  {
   "cell_type": "code",
   "execution_count": 59,
   "id": "8bd3353f-0e71-4c44-ba4d-3e1a1c92ebd0",
   "metadata": {},
   "outputs": [],
   "source": [
    "df.to_excel(\"acoes.xlsx\", index=False)"
   ]
  }
 ],
 "metadata": {
  "kernelspec": {
   "display_name": "Python 3 (ipykernel)",
   "language": "python",
   "name": "python3"
  },
  "language_info": {
   "codemirror_mode": {
    "name": "ipython",
    "version": 3
   },
   "file_extension": ".py",
   "mimetype": "text/x-python",
   "name": "python",
   "nbconvert_exporter": "python",
   "pygments_lexer": "ipython3",
   "version": "3.11.2"
  }
 },
 "nbformat": 4,
 "nbformat_minor": 5
}
